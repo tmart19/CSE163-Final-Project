{
 "metadata": {
  "language_info": {
   "codemirror_mode": {
    "name": "ipython",
    "version": 3
   },
   "file_extension": ".py",
   "mimetype": "text/x-python",
   "name": "python",
   "nbconvert_exporter": "python",
   "pygments_lexer": "ipython3",
   "version": "3.8.2-final"
  },
  "orig_nbformat": 2,
  "kernelspec": {
   "name": "python3",
   "display_name": "Python 3.8.2 64-bit",
   "metadata": {
    "interpreter": {
     "hash": "dfb257c36c3e8c9acf0722a6e4cc64fdea8fa5aba6c35c47eb9a5d536e2ff7fc"
    }
   }
  }
 },
 "nbformat": 4,
 "nbformat_minor": 2,
 "cells": [
  {
   "cell_type": "code",
   "execution_count": null,
   "metadata": {},
   "outputs": [],
   "source": [
    "import pandas as pd\n",
    "import numpy as np\n",
    "\n",
    "from sklearn.tree import DecisionTreeRegressor\n",
    "from sklearn.metrics import mean_squared_error\n",
    "from sklearn.model_selection import train_test_split\n",
    "from sklearn.model_selection import cross_val_score\n",
    "\n",
    "from matplotlib import pyplot as plt\n",
    "\n",
    "from sklearn.linear_model import LogisticRegression\n",
    "from sklearn.ensemble import RandomForestClassifier\n",
    "from sklearn.svm import SVC\n",
    "from sklearn.model_selection import KFold\n",
    "from sklearn.model_selection import StratifiedKFold\n",
    "\n",
    "income_data = pd.read_csv('./datasets/PanelStudyIncomeDynamics.csv')\n",
    "income_data = pd.DataFrame(income_data)"
   ]
  },
  {
   "cell_type": "code",
   "execution_count": null,
   "metadata": {},
   "outputs": [],
   "source": [
    "# Predict annual income by attributes (race, age)\n",
    "# regression model\n",
    "\n",
    "print\n",
    "\n",
    "income_data = income_data[['age', 'white', 'black', 'othrace', 'annlabinc']]\n",
    "income_data = income_data.dropna()\n",
    "\n",
    "# can add more features (hispanic variable does not work because of 'boolean indexer' apparently)\n",
    "features = income_data[['age', 'white', 'black', 'othrace']]\n",
    "labels = income_data['annlabinc']\n",
    "\n",
    "features_train, features_test, labels_train, labels_test = train_test_split(features, labels, test_size=0.2)\n",
    "\n",
    "model = DecisionTreeRegressor()\n",
    "model.fit(features_train, labels_train)\n",
    "\n",
    "train_predictions = model.predict(features_train)\n",
    "\n",
    "print(mean_squared_error(train_predictions, labels_train))"
   ]
  },
  {
   "cell_type": "code",
   "execution_count": null,
   "metadata": {},
   "outputs": [],
   "source": [
    "# plot\n",
    "\n",
    "X = income_data['othrace'].values\n",
    "y = income_data['annlabinc'] / 100 # divided by 100 for better representation on y axis\n",
    "\n",
    "plt.scatter(X, (y))\n",
    "print(y[:5])\n",
    "plt.show()"
   ]
  },
  {
   "cell_type": "code",
   "execution_count": null,
   "metadata": {},
   "outputs": [],
   "source": [
    "train_scores = cross_val_score(model, features_train, labels_train, scoring='neg_mean_squared_error', cv=5)\n",
    "train_scores * -1"
   ]
  },
  {
   "cell_type": "code",
   "execution_count": null,
   "metadata": {},
   "outputs": [],
   "source": [
    "import pandas as pd\n",
    "import numpy as np\n",
    "\n",
    "from sklearn.tree import DecisionTreeRegressor\n",
    "from sklearn.metrics import mean_squared_error\n",
    "from sklearn.model_selection import train_test_split\n",
    "\n",
    "from sklearn.model_selection import cross_val_score\n",
    "\n",
    "def get_regressor_scores(data, features, labels):\n",
    "    income_data = pd.read_csv(data)\n",
    "    income_data = income_data.dropna()\n",
    "\n",
    "    # (hispanic variable does not work because of 'boolean indexer' apparently)\n",
    "\n",
    "    features = income_data[features]\n",
    "    labels = income_data[labels]\n",
    "\n",
    "    features_train, features_test, labels_train, labels_test = train_test_split(features, labels, test_size=0.2)\n",
    "\n",
    "    model = DecisionTreeRegressor()\n",
    "\n",
    "    # get CV model scores before fitting and training example data\n",
    "    cv_scores = cross_val_score(model, features, labels, scoring='neg_mean_squared_error', cv=5)\n",
    "    cv_scores = train_scores * -1\n",
    "\n",
    "    # fit model to training set\n",
    "    model.fit(features_train, labels_train)\n",
    "\n",
    "    train_predictions = model.predict(features_train)\n",
    "\n",
    "\n",
    "    print(mean_squared_error(train_predictions, labels_train))\n",
    "\n",
    "\n",
    "print(get_regressor_scores('./datasets/PanelStudyIncomeDynamics.csv', ['age'], ['annlabinc']))"
   ]
  },
  {
   "cell_type": "code",
   "execution_count": null,
   "metadata": {},
   "outputs": [],
   "source": [
    "lr = LogisticRegression()\n",
    "lr.fit(features_train, labels_train)\n",
    "lr.score(features_test, labels_test)\n",
    "\n",
    "# these will hold scores for each separate model\n",
    "scores_l = []\n",
    "scores_svm = []\n",
    "scores_rf = []"
   ]
  },
  {
   "cell_type": "code",
   "execution_count": null,
   "metadata": {},
   "outputs": [],
   "source": [
    "# k fold practice\n",
    "kf = KFold(n_splits=3)\n",
    "\n",
    "for train_index, test_index in kf.split([1, 2, 3, 4, 5, 6]):\n",
    "    print(train_index, test_index)"
   ]
  },
  {
   "cell_type": "code",
   "execution_count": null,
   "metadata": {},
   "outputs": [],
   "source": [
    "# func to score each ML model (regressor, rt classifier, SVM)\n",
    "def get_score(model, X_train, X_test, y_train, y_test):\n",
    "    model.fit(X_train, y_train)\n",
    "    return model.score(X_test, y_test)"
   ]
  },
  {
   "cell_type": "code",
   "execution_count": null,
   "metadata": {},
   "outputs": [],
   "source": [
    "features = income_data[['age', 'white', 'black', 'othrace']]\n",
    "labels = income_data[['annlabinc']]\n",
    "\n",
    "# new split variable\n",
    "kf_inc = KFold(n_splits=3)\n",
    "\n",
    "# print(features[train_index[0]: train_index[-1]])\n",
    "\n",
    "# make list to hold indexes for each train and test set\n",
    "train_x = []\n",
    "test_x = []\n",
    "train_y = []\n",
    "test_y = []\n",
    "\n",
    "# then slice income_data for each array\n",
    "\n",
    "for train_index, test_index in kf_inc.split(income_data):\n",
    "    #print(train_index[0], test_index[0])\n",
    "    print('here')\n",
    "    train_x = features[train_index]\n",
    "    # X_train, X_test, y_train, y_test = features[train_index], features[test_index], \\\n",
    "    #                                    labels[train_index], labels[test_index]\n",
    "\n",
    "print(train_x)"
   ]
  }
 ]
}